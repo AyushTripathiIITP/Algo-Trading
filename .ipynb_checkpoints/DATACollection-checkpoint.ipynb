{
 "cells": [
  {
   "cell_type": "markdown",
   "id": "912bb1d5",
   "metadata": {},
   "source": [
    "### Using yahooFinance and pandas_datareader function I have extracted the BTC-USD data from 01/01/2018 to 31/01/2022"
   ]
  },
  {
   "cell_type": "code",
   "execution_count": null,
   "id": "ace8d840",
   "metadata": {},
   "outputs": [],
   "source": [
    "# !pip install pandas_datareader\n",
    "# !pip install tfinance"
   ]
  },
  {
   "cell_type": "code",
   "execution_count": 17,
   "id": "839151c1",
   "metadata": {},
   "outputs": [
    {
     "name": "stdout",
     "output_type": "stream",
     "text": [
      "[*********************100%%**********************]  1 of 1 completed\n"
     ]
    }
   ],
   "source": [
    "from pandas_datareader import data as pdr\n",
    "from datetime import datetime,date\n",
    "\n",
    "import yfinance as yf\n",
    "yf.pdr_override()\n",
    "\n",
    "from datetime import datetime\n",
    "startdate = datetime(2018,1,1)\n",
    "enddate = datetime(2022,2,1)\n",
    "\n",
    "data = pdr.get_data_yahoo('BTC-USD', start=startdate, end=enddate)"
   ]
  },
  {
   "cell_type": "code",
   "execution_count": 18,
   "id": "51290288",
   "metadata": {},
   "outputs": [
    {
     "data": {
      "text/html": [
       "<div>\n",
       "<style scoped>\n",
       "    .dataframe tbody tr th:only-of-type {\n",
       "        vertical-align: middle;\n",
       "    }\n",
       "\n",
       "    .dataframe tbody tr th {\n",
       "        vertical-align: top;\n",
       "    }\n",
       "\n",
       "    .dataframe thead th {\n",
       "        text-align: right;\n",
       "    }\n",
       "</style>\n",
       "<table border=\"1\" class=\"dataframe\">\n",
       "  <thead>\n",
       "    <tr style=\"text-align: right;\">\n",
       "      <th></th>\n",
       "      <th>Open</th>\n",
       "      <th>High</th>\n",
       "      <th>Low</th>\n",
       "      <th>Close</th>\n",
       "      <th>Adj Close</th>\n",
       "      <th>Volume</th>\n",
       "    </tr>\n",
       "    <tr>\n",
       "      <th>Date</th>\n",
       "      <th></th>\n",
       "      <th></th>\n",
       "      <th></th>\n",
       "      <th></th>\n",
       "      <th></th>\n",
       "      <th></th>\n",
       "    </tr>\n",
       "  </thead>\n",
       "  <tbody>\n",
       "    <tr>\n",
       "      <th>2018-01-01</th>\n",
       "      <td>14112.200195</td>\n",
       "      <td>14112.200195</td>\n",
       "      <td>13154.700195</td>\n",
       "      <td>13657.200195</td>\n",
       "      <td>13657.200195</td>\n",
       "      <td>10291200000</td>\n",
       "    </tr>\n",
       "    <tr>\n",
       "      <th>2018-01-02</th>\n",
       "      <td>13625.000000</td>\n",
       "      <td>15444.599609</td>\n",
       "      <td>13163.599609</td>\n",
       "      <td>14982.099609</td>\n",
       "      <td>14982.099609</td>\n",
       "      <td>16846600192</td>\n",
       "    </tr>\n",
       "    <tr>\n",
       "      <th>2018-01-03</th>\n",
       "      <td>14978.200195</td>\n",
       "      <td>15572.799805</td>\n",
       "      <td>14844.500000</td>\n",
       "      <td>15201.000000</td>\n",
       "      <td>15201.000000</td>\n",
       "      <td>16871900160</td>\n",
       "    </tr>\n",
       "    <tr>\n",
       "      <th>2018-01-04</th>\n",
       "      <td>15270.700195</td>\n",
       "      <td>15739.700195</td>\n",
       "      <td>14522.200195</td>\n",
       "      <td>15599.200195</td>\n",
       "      <td>15599.200195</td>\n",
       "      <td>21783199744</td>\n",
       "    </tr>\n",
       "    <tr>\n",
       "      <th>2018-01-05</th>\n",
       "      <td>15477.200195</td>\n",
       "      <td>17705.199219</td>\n",
       "      <td>15202.799805</td>\n",
       "      <td>17429.500000</td>\n",
       "      <td>17429.500000</td>\n",
       "      <td>23840899072</td>\n",
       "    </tr>\n",
       "    <tr>\n",
       "      <th>...</th>\n",
       "      <td>...</td>\n",
       "      <td>...</td>\n",
       "      <td>...</td>\n",
       "      <td>...</td>\n",
       "      <td>...</td>\n",
       "      <td>...</td>\n",
       "    </tr>\n",
       "    <tr>\n",
       "      <th>2022-01-27</th>\n",
       "      <td>36841.878906</td>\n",
       "      <td>37148.324219</td>\n",
       "      <td>35629.281250</td>\n",
       "      <td>37138.234375</td>\n",
       "      <td>37138.234375</td>\n",
       "      <td>25041426629</td>\n",
       "    </tr>\n",
       "    <tr>\n",
       "      <th>2022-01-28</th>\n",
       "      <td>37128.445312</td>\n",
       "      <td>37952.878906</td>\n",
       "      <td>36211.109375</td>\n",
       "      <td>37784.332031</td>\n",
       "      <td>37784.332031</td>\n",
       "      <td>22238830523</td>\n",
       "    </tr>\n",
       "    <tr>\n",
       "      <th>2022-01-29</th>\n",
       "      <td>37780.714844</td>\n",
       "      <td>38576.261719</td>\n",
       "      <td>37406.472656</td>\n",
       "      <td>38138.179688</td>\n",
       "      <td>38138.179688</td>\n",
       "      <td>17194183075</td>\n",
       "    </tr>\n",
       "    <tr>\n",
       "      <th>2022-01-30</th>\n",
       "      <td>38151.917969</td>\n",
       "      <td>38266.339844</td>\n",
       "      <td>37437.710938</td>\n",
       "      <td>37917.601562</td>\n",
       "      <td>37917.601562</td>\n",
       "      <td>14643548444</td>\n",
       "    </tr>\n",
       "    <tr>\n",
       "      <th>2022-01-31</th>\n",
       "      <td>37920.281250</td>\n",
       "      <td>38647.261719</td>\n",
       "      <td>36733.574219</td>\n",
       "      <td>38483.125000</td>\n",
       "      <td>38483.125000</td>\n",
       "      <td>20734730465</td>\n",
       "    </tr>\n",
       "  </tbody>\n",
       "</table>\n",
       "<p>1492 rows × 6 columns</p>\n",
       "</div>"
      ],
      "text/plain": [
       "                    Open          High           Low         Close  \\\n",
       "Date                                                                 \n",
       "2018-01-01  14112.200195  14112.200195  13154.700195  13657.200195   \n",
       "2018-01-02  13625.000000  15444.599609  13163.599609  14982.099609   \n",
       "2018-01-03  14978.200195  15572.799805  14844.500000  15201.000000   \n",
       "2018-01-04  15270.700195  15739.700195  14522.200195  15599.200195   \n",
       "2018-01-05  15477.200195  17705.199219  15202.799805  17429.500000   \n",
       "...                  ...           ...           ...           ...   \n",
       "2022-01-27  36841.878906  37148.324219  35629.281250  37138.234375   \n",
       "2022-01-28  37128.445312  37952.878906  36211.109375  37784.332031   \n",
       "2022-01-29  37780.714844  38576.261719  37406.472656  38138.179688   \n",
       "2022-01-30  38151.917969  38266.339844  37437.710938  37917.601562   \n",
       "2022-01-31  37920.281250  38647.261719  36733.574219  38483.125000   \n",
       "\n",
       "               Adj Close       Volume  \n",
       "Date                                   \n",
       "2018-01-01  13657.200195  10291200000  \n",
       "2018-01-02  14982.099609  16846600192  \n",
       "2018-01-03  15201.000000  16871900160  \n",
       "2018-01-04  15599.200195  21783199744  \n",
       "2018-01-05  17429.500000  23840899072  \n",
       "...                  ...          ...  \n",
       "2022-01-27  37138.234375  25041426629  \n",
       "2022-01-28  37784.332031  22238830523  \n",
       "2022-01-29  38138.179688  17194183075  \n",
       "2022-01-30  37917.601562  14643548444  \n",
       "2022-01-31  38483.125000  20734730465  \n",
       "\n",
       "[1492 rows x 6 columns]"
      ]
     },
     "execution_count": 18,
     "metadata": {},
     "output_type": "execute_result"
    }
   ],
   "source": [
    "data"
   ]
  },
  {
   "cell_type": "code",
   "execution_count": null,
   "id": "085b77b7",
   "metadata": {},
   "outputs": [],
   "source": [
    "data['Open'].plot(label='BTC/USTD',figsize=(16,8),title='Open Price')"
   ]
  },
  {
   "cell_type": "code",
   "execution_count": null,
   "id": "65408d29",
   "metadata": {},
   "outputs": [],
   "source": [
    "data['Volume'].plot(label='BTC/USTD',figsize=(16,8),title='Volume')"
   ]
  },
  {
   "cell_type": "code",
   "execution_count": null,
   "id": "9995fb1e",
   "metadata": {},
   "outputs": [],
   "source": [
    "data['Total Traded'] = data['Open']*data['Volume']"
   ]
  },
  {
   "cell_type": "code",
   "execution_count": null,
   "id": "4b0dda50",
   "metadata": {},
   "outputs": [],
   "source": [
    "data['Total Traded'].plot(label='Total Traded',figsize=(16,8) , title= \"Total Traded\")"
   ]
  },
  {
   "cell_type": "code",
   "execution_count": null,
   "id": "f834153a",
   "metadata": {},
   "outputs": [],
   "source": [
    "data['MA50'] = data['Open'].rolling(50).mean()\n",
    "data['MA200'] = data['Open'].rolling(200).mean()\n",
    "data[['Open','MA50','MA200']].plot(label='BTC/USDT',figsize=(16,8), title=\"MA50/MA200\")"
   ]
  },
  {
   "cell_type": "markdown",
   "id": "3b4104e0",
   "metadata": {},
   "source": [
    "# Daily Percentage Change\n",
    "\n",
    "First we will begin by calculating the daily percentage change. Daily percentage change is defined by the following formula:\n",
    "    \n",
    "returns = (price at T/price at T-1) -1\n",
    "\n",
    "This defines r_t (return at time t) as equal to the price at time t divided by the price at time t-1 (the previous day) minus 1. Basically this just informs you of your percent gain (or loss) if you bought the stock on day and then sold it the next day. While this isn't necessarily helpful for attempting to predict future values of the stock, its very helpful in analyzing the volatility of the stock. If daily returns have a wide distribution, the stock is more volatile from one day to the next. Let's calculate the percent returns and then plot them with a histogram, and decide which stock is the most stable!"
   ]
  },
  {
   "cell_type": "code",
   "execution_count": null,
   "id": "20f2c81c",
   "metadata": {},
   "outputs": [],
   "source": [
    "data['returns'] = (data['Close'] / data['Close'].shift(1) ) - 1\n",
    "data.head()"
   ]
  },
  {
   "cell_type": "code",
   "execution_count": null,
   "id": "93962588",
   "metadata": {},
   "outputs": [],
   "source": [
    "import matplotlib.pyplot as plt\n",
    "plt.figure(figsize=(16,8))\n",
    "data['returns'].hist(bins=100)\n",
    "plt.show()"
   ]
  },
  {
   "cell_type": "code",
   "execution_count": null,
   "id": "4368d459",
   "metadata": {},
   "outputs": [],
   "source": [
    "data['returns'].plot(kind='kde',label='BTC/USDT',figsize=(16,8))"
   ]
  },
  {
   "cell_type": "code",
   "execution_count": null,
   "id": "65b54382",
   "metadata": {},
   "outputs": [],
   "source": [
    "data['Cumulative Return'] = (1 + data['returns']).cumprod()\n",
    "data.head()"
   ]
  },
  {
   "cell_type": "code",
   "execution_count": null,
   "id": "757e8dd9",
   "metadata": {},
   "outputs": [],
   "source": [
    "data['Cumulative Return'].plot(label='BTC',figsize=(16,8),title='Cumulative Return')"
   ]
  }
 ],
 "metadata": {
  "kernelspec": {
   "display_name": "Python 3 (ipykernel)",
   "language": "python",
   "name": "python3"
  },
  "language_info": {
   "codemirror_mode": {
    "name": "ipython",
    "version": 3
   },
   "file_extension": ".py",
   "mimetype": "text/x-python",
   "name": "python",
   "nbconvert_exporter": "python",
   "pygments_lexer": "ipython3",
   "version": "3.11.4"
  }
 },
 "nbformat": 4,
 "nbformat_minor": 5
}
